{
 "cells": [
  {
   "cell_type": "code",
   "execution_count": 23,
   "id": "b421ec35-9cfe-4f36-9e4f-0297713272fc",
   "metadata": {},
   "outputs": [],
   "source": [
    "import numpy as np\n",
    "import pandas as pd\n",
    "from matplotlib import pyplot as plt"
   ]
  },
  {
   "cell_type": "code",
   "execution_count": 91,
   "id": "2761b197-8c0d-4efb-9f01-f7a2057fb2eb",
   "metadata": {},
   "outputs": [],
   "source": [
    "# get the data out from csv file\n",
    "data = pd.read_csv('/Users/zihang/Desktop/Pico/MNIST/mnist_train.csv')\n",
    "\n",
    "# test if we load it successfully\n",
    "# print(data)"
   ]
  },
  {
   "cell_type": "code",
   "execution_count": 92,
   "id": "a23d1d81-b25a-4bef-92d9-04c843cecde9",
   "metadata": {},
   "outputs": [
    {
     "name": "stdout",
     "output_type": "stream",
     "text": [
      "60000 785\n"
     ]
    }
   ],
   "source": [
    "# make it to a multidimensional array, each \n",
    "data = np.array(data)\n",
    "\n",
    "# get the Row:m and Column:n\n",
    "m, n = data.shape\n",
    "print(m, n)"
   ]
  },
  {
   "cell_type": "code",
   "execution_count": 93,
   "id": "790d8a18-5bf4-4564-b461-f9210d4dfc27",
   "metadata": {},
   "outputs": [
    {
     "name": "stdout",
     "output_type": "stream",
     "text": [
      "[[5 0 0 ... 0 0 0]\n",
      " [0 0 0 ... 0 0 0]]\n"
     ]
    }
   ],
   "source": [
    "# see whats inside\n",
    "# print('the first sample is:\\n', data[0])\n",
    "\n",
    "# print('\\nthe first element of the first sample is:\\n', data[0,0])\n",
    "\n",
    "print(data[0:2])"
   ]
  },
  {
   "cell_type": "code",
   "execution_count": 94,
   "id": "e4a38276-c94b-4f35-99d6-33c6877d44d8",
   "metadata": {},
   "outputs": [],
   "source": [
    "def show_pixel_number(sample, dataset):\n",
    "    # pick a sample to plot, so we know we are on the right path\n",
    "    # crate a 28*28 pixels image to plot, it is initialised as a 2D array with all elements 0\n",
    "    sample_array = np.zeros((28, 28))\n",
    "\n",
    "    # pick a sample, equals to the number of row\n",
    "    # sample = 4\n",
    "\n",
    "    # then we put data into it\n",
    "    for j in range(28):    \n",
    "        for i in range(28):\n",
    "            sample_array[j,i] = dataset[sample,j*28+i+1]\n",
    "\n",
    "    # it is a multidimensional like this\n",
    "    # image = np.array([[1, 2, 3],\n",
    "    #                   [4, 5, 6],\n",
    "    #                   [7, 8, 9]])\n",
    "    image = sample_array\n",
    "\n",
    "    # plot the sample\n",
    "    fig = plt.figure\n",
    "    plt.imshow(image, cmap='gray')\n",
    "    plt.show()\n"
   ]
  },
  {
   "cell_type": "code",
   "execution_count": 95,
   "id": "b43ed7a5-3940-4415-aa5e-e2baa220bcf9",
   "metadata": {},
   "outputs": [
    {
     "data": {
      "image/png": "[encoded data removed]",
      "text/plain": [
       "<Figure size 640x480 with 1 Axes>"
      ]
     },
     "metadata": {},
     "output_type": "display_data"
    }
   ],
   "source": [
    "show_pixel_number(0, data)"
   ]
  },
  {
   "cell_type": "code",
   "execution_count": 128,
   "id": "1c5900ac-e2d8-430b-84c8-c2574fab9ba2",
   "metadata": {},
   "outputs": [
    {
     "data": {
      "text/plain": [
       "\"\\n# pick a sample to plot, so we know we are on the right path\\n# crate a 28*28 pixels image to plot, it is initialised as a 2D array with all elements 0\\nsample_array = np.zeros((28, 28))\\n\\n# pick a sample, equals to the number of row\\nsample = 4\\n\\n# then we put data into it\\nfor j in range(28):    \\n    for i in range(28):\\n        sample_array[j,i] = data[sample,j*28+i+1]\\n\\n# print it to compare with the csv file\\nprint(sample_array[7,6])\\n\\n# it is a multidimensional like this\\n# image = np.array([[1, 2, 3],\\n#                   [4, 5, 6],\\n#                   [7, 8, 9]])\\nimage = sample_array\\n\\n# plot the sample\\nfig = plt.figure\\nplt.imshow(image, cmap='gray')\\nplt.show()\\n\""
      ]
     },
     "execution_count": 128,
     "metadata": {},
     "output_type": "execute_result"
    }
   ],
   "source": [
    "'''\n",
    "# pick a sample to plot, so we know we are on the right path\n",
    "# crate a 28*28 pixels image to plot, it is initialised as a 2D array with all elements 0\n",
    "sample_array = np.zeros((28, 28))\n",
    "\n",
    "# pick a sample, equals to the number of row\n",
    "sample = 4\n",
    "\n",
    "# then we put data into it\n",
    "for j in range(28):    \n",
    "    for i in range(28):\n",
    "        sample_array[j,i] = data[sample,j*28+i+1]\n",
    "\n",
    "# print it to compare with the csv file\n",
    "print(sample_array[7,6])\n",
    "\n",
    "# it is a multidimensional like this\n",
    "# image = np.array([[1, 2, 3],\n",
    "#                   [4, 5, 6],\n",
    "#                   [7, 8, 9]])\n",
    "image = sample_array\n",
    "\n",
    "# plot the sample\n",
    "fig = plt.figure\n",
    "plt.imshow(image, cmap='gray')\n",
    "plt.show()\n",
    "'''"
   ]
  },
  {
   "cell_type": "code",
   "execution_count": 96,
   "id": "7ed74252-6298-4721-8090-58ec25d53ef3",
   "metadata": {},
   "outputs": [
    {
     "data": {
      "text/plain": [
       "'\\nrow:    handwritten numbers, 1000\\ncolumn: pixels,              784 + 1\\n7    2    1    0 ...\\n1*1\\n1*2\\n.\\n.\\n.\\n1*28\\n2*1\\n.\\n.\\n.\\n\\n'"
      ]
     },
     "execution_count": 96,
     "metadata": {},
     "output_type": "execute_result"
    }
   ],
   "source": [
    "# shuffle before splitting into dev and training sets\n",
    "# np.random.shuffle(data)\n",
    "\n",
    "# make the transposed matrix\n",
    "data_dev = data[0:60000].T\n",
    "# m_dev, n_dev = data_dev.shape\n",
    "# print(m_dev, n_dev)\n",
    "# print(data_dev)\n",
    "# print(data_dev[203,0])\n",
    "\n",
    "'''\n",
    "row:    handwritten numbers, 1000\n",
    "column: pixels,              784 + 1\n",
    "7    2    1    0 ...\n",
    "1*1\n",
    "1*2\n",
    ".\n",
    ".\n",
    ".\n",
    "1*28\n",
    "2*1\n",
    ".\n",
    ".\n",
    ".\n",
    "\n",
    "'''"
   ]
  },
  {
   "cell_type": "code",
   "execution_count": 97,
   "id": "0a037477-cdeb-43ed-ba20-6b71fad5a75d",
   "metadata": {},
   "outputs": [],
   "source": [
    "# 1000 units, which are handwritten numbers\n",
    "# 1*1000 matrix\n",
    "handwritten = data_dev[0]\n",
    "# print(handwritten)\n",
    "# print(handwritten.size)\n",
    "# print(handwritten.shape)"
   ]
  },
  {
   "cell_type": "code",
   "execution_count": 98,
   "id": "11efc176-cd38-4be8-982f-14b034d911ea",
   "metadata": {},
   "outputs": [],
   "source": [
    "# get the pixels, 784000 units, (1000 samples * 28*28)\n",
    "# 784*1000 matrix\n",
    "pixels = data_dev[1:n]\n",
    "# print(pixels)\n",
    "# pixel_m, pixel_n = pixels.shape\n",
    "# print(pixel_m, pixel_n)\n",
    "# print(pixels[203])\n",
    "\n",
    "# make their values between 0~1\n",
    "pixels = pixels / 255."
   ]
  },
  {
   "cell_type": "code",
   "execution_count": 26,
   "id": "fbf2b647-dff5-4373-b376-1bf762d3c8d4",
   "metadata": {},
   "outputs": [
    {
     "data": {
      "text/plain": [
       "'\\nlayer 2, output layer, 10 units, call it Y, 10*1 matrix\\n\\n\\nY = F_soft(w2 * H1 + b2), F_soft() is Softmax activation\\nY_pre = w2 * H1 + b\\nw2 has to be a 10*1 matrix, b2 has to be a 10*1 matrix\\n\\n\\n'"
      ]
     },
     "execution_count": 26,
     "metadata": {},
     "output_type": "execute_result"
    }
   ],
   "source": [
    "# mathematic\n",
    "\n",
    "'''\n",
    "Forward propagation\n",
    "\n",
    "layer 0, input layer, 784 units, call it X, 784*1 matrix, pixels are the input\n",
    "\n",
    "'''\n",
    "#\n",
    "# \n",
    "'''\n",
    "layer 1, hidden layer, 10 units, call it H1, 10*1 matrix\n",
    "\n",
    "H1 = F_relu(H1_pre),  F_relu() is ReLU activation\n",
    "H1_pre = w1 * X + b1\n",
    "w1 has to be a 10*784 matrix, b1 has to be a 10*1 matrix\n",
    "\n",
    "'''\n",
    "#\n",
    "# \n",
    "'''\n",
    "layer 2, output layer, 10 units, call it Y, 10*1 matrix\n",
    "\n",
    "\n",
    "Y = F_soft(Y_pre), F_soft() is Softmax activation\n",
    "Y_pre = w2 * H1 + b\n",
    "w2 has to be a 10*10 matrix, b2 has to be a 10*1 matrix\n",
    "\n",
    "\n",
    "'''"
   ]
  },
  {
   "cell_type": "code",
   "execution_count": null,
   "id": "9869efc5-2189-4963-b6e9-aa140c05fde0",
   "metadata": {},
   "outputs": [],
   "source": [
    "'''\n",
    "Backward propagation\n",
    "\n",
    "'''\n",
    "# \n",
    "# \n",
    "'''\n",
    "Aiming to get w2 & b2 correct\n",
    "\n",
    "dY = Y - handwritten_soft \n",
    "-> handwritten_soft is a 10*1 matrix, but with 9 '0' and only 1 '1'\n",
    "-> dY is 10*1 matrix, the bigger the dY, the lower the dw2 needs to be decrease\n",
    "\n",
    "dw2 = dY * H1.T\n",
    "-> H1.T is 1*10 matrix, the bigger the H1.T, the higher the dw2 be modified\n",
    "-> dw2 is 10*10 matrix\n",
    "\n",
    "db2 = dY\n",
    "-> db2 is 10*1 matrix\n",
    "\n",
    "'''\n",
    "# \n",
    "# \n",
    "'''\n",
    "Aiming to get w1 & b1 correct\n",
    "\n",
    "dH1_pre = w2.T * dY * F_relu'(H1_pre)\n",
    "-> like F_relu(), but F_relu'() will only have '1' or '0'\n",
    "-> dH1_pre = 10*1 matrix\n",
    "\n",
    "dw1 = dH1_pre * X.T\n",
    "db1 = dH1_pre\n",
    "\n",
    "'''"
   ]
  },
  {
   "cell_type": "code",
   "execution_count": 31,
   "id": "4fcd35a6-5818-4a57-85fe-a245c7e41903",
   "metadata": {},
   "outputs": [],
   "source": [
    "# weight and bias of layer 1 and second layer 2\n",
    "# make the value of weight and bias between -0.5~0.5\n",
    "def init_params():\n",
    "    w1 = np.random.rand(10, 784) - 0.5\n",
    "    b1 = np.random.rand(10, 1) - 0.5\n",
    "    w2 = np.random.rand(10, 10) - 0.5\n",
    "    b2 = np.random.rand(10, 1) - 0.5\n",
    "    return w1, b1, w2, b2\n",
    "\n",
    "# input a number, say X, if X > 0, output = X; if X < 0, output = 0\n",
    "def ReLU(x):\n",
    "    return np.maximum(x, 0)\n",
    "\n",
    "# input a number, say X, if X > 0, output = 1; if X < 0, output = 0\n",
    "def ReLU_derivative(x):\n",
    "    return x > 0\n",
    "\n",
    "# input a number, say X, make the output between 0~1\n",
    "def softmax(x):\n",
    "    y = np.exp(x) / sum(np.exp(x))\n",
    "    return y\n",
    "\n",
    "# input a number, say X (between 0~9), make a 10*1 matrix, and only the Xth is 1, other positions are 0\n",
    "def digitizer(x):\n",
    "    digitizer_result = np.zeros((10, 1))\n",
    "    digitizer_result[x,0] = 1\n",
    "    return digitizer_result"
   ]
  },
  {
   "cell_type": "code",
   "execution_count": 32,
   "id": "cb26222e-57e2-43ea-9639-6b20871c979a",
   "metadata": {},
   "outputs": [],
   "source": [
    "def forward_prop(w1, b1, w2, b2, X):\n",
    "    # layer 0 -> 1\n",
    "    H1_pre = w1.dot(X) + b1\n",
    "    H1 = ReLU(H1_pre)\n",
    "    # layer 1 -> 2\n",
    "    Y_pre = w2.dot(H1) + b2\n",
    "    Y = softmax(Y_pre)\n",
    "    \n",
    "    return H1_pre, H1, Y_pre, Y\n",
    "\n",
    "\n",
    "def backward_prop(w2, H1_pre, H1, Y, X, handwritten_number):\n",
    "    # correct w2, b2\n",
    "    digitizer_result = digitizer(handwritten_number)\n",
    "    dY = Y - digitizer_result\n",
    "    dw2 = dY.dot(H1.T)\n",
    "    db2 = dY\n",
    "    # correct w1, b1\n",
    "    dH1_pre = w2.T.dot(dY) * ReLU_derivative(H1_pre)\n",
    "    dw1 = dH1_pre.dot(X.T)\n",
    "    db1 = dH1_pre\n",
    "    \n",
    "    return dw1, db1, dw2, db2\n",
    "\n",
    "\n",
    "def update_params(w1, b1, w2, b2, dw1, db1, dw2, db2, k):\n",
    "    # correct one time per propagation\n",
    "    w1 = w1 - k * dw1\n",
    "    b1 = b1 - k * db1    \n",
    "    w2 = w2 - k * dw2  \n",
    "    b2 = b2 - k * db2    \n",
    "    return w1, b1, w2, b2"
   ]
  },
  {
   "cell_type": "code",
   "execution_count": 33,
   "id": "506db114-ff59-4468-bca0-ce5a198c67d0",
   "metadata": {},
   "outputs": [],
   "source": [
    "# Now let's run it!"
   ]
  },
  {
   "cell_type": "code",
   "execution_count": 100,
   "id": "c75dd1a0-6bcd-416b-9c5e-2c4a7e589359",
   "metadata": {},
   "outputs": [],
   "source": [
    "# Functions for training the neural network\n",
    "def get_predictions(Y):\n",
    "    return np.argmax(Y, 0)\n",
    "\n",
    "\n",
    "\n",
    "def training_oneloop(X, handwritten_number, w1, b1, w2, b2, k):\n",
    "    # w1, b1, w2, b2 = init_params()\n",
    "    \n",
    "    H1_pre, H1, Y_pre, Y = forward_prop(w1, b1, w2, b2, X)\n",
    "    dw1, db1, dw2, db2 = backward_prop(w2, H1_pre, H1, Y, X, handwritten_number)\n",
    "    w1, b1, w2, b2 = update_params(w1, b1, w2, b2, dw1, db1, dw2, db2, k)\n",
    "    \n",
    "    return w1, b1, w2, b2\n",
    "\n",
    "def gradient_descent_training(iterations, pixels, handwritten, w1, b1, w2, b2, k):\n",
    "    pixels_for_one_number = np.zeros((784, 1))\n",
    "    # print(pixels_for_one_number.shape)\n",
    "    # print(pixels_for_one_number)\n",
    "    \n",
    "    for i in range(iterations):\n",
    "        for j in range(784):\n",
    "            pixels_for_one_number[j,0] = pixels[j,i]\n",
    "        if i % 500 == 0:\n",
    "            print(\"Iteration: \", i)\n",
    "        # print(pixels_for_one_number.shape)\n",
    "        # print(pixels_for_one_number)\n",
    "        w1, b1, w2, b2 = training_oneloop(pixels_for_one_number, handwritten[i], w1, b1, w2, b2, k)\n",
    "        \n",
    "    print('Training finished!\\nThe weight and bias are stored')\n",
    "    return w1, b1, w2, b2\n"
   ]
  },
  {
   "cell_type": "code",
   "execution_count": 36,
   "id": "7b2cb7ff-98e5-415c-846c-dc361434368f",
   "metadata": {},
   "outputs": [],
   "source": [
    "# Train it now!!!"
   ]
  },
  {
   "cell_type": "code",
   "execution_count": 147,
   "id": "01c774ec-76bf-4628-854c-2ce5857b27df",
   "metadata": {},
   "outputs": [],
   "source": [
    "w1, b1, w2, b2 = init_params()\n",
    "# print(w1, b1, w2, b2)"
   ]
  },
  {
   "cell_type": "code",
   "execution_count": 148,
   "id": "958faf99-7c03-41d9-9fa4-df82c1a5430e",
   "metadata": {},
   "outputs": [
    {
     "name": "stdout",
     "output_type": "stream",
     "text": [
      "Iteration:  0\n",
      "Iteration:  500\n",
      "Iteration:  1000\n",
      "Iteration:  1500\n",
      "Iteration:  2000\n",
      "Iteration:  2500\n",
      "Iteration:  3000\n",
      "Iteration:  3500\n",
      "Iteration:  4000\n",
      "Iteration:  4500\n",
      "Iteration:  5000\n",
      "Iteration:  5500\n",
      "Iteration:  6000\n",
      "Iteration:  6500\n",
      "Iteration:  7000\n",
      "Iteration:  7500\n",
      "Iteration:  8000\n",
      "Iteration:  8500\n",
      "Iteration:  9000\n",
      "Iteration:  9500\n",
      "Iteration:  10000\n",
      "Iteration:  10500\n",
      "Iteration:  11000\n",
      "Iteration:  11500\n",
      "Iteration:  12000\n",
      "Iteration:  12500\n",
      "Iteration:  13000\n",
      "Iteration:  13500\n",
      "Iteration:  14000\n",
      "Iteration:  14500\n",
      "Iteration:  15000\n",
      "Iteration:  15500\n",
      "Iteration:  16000\n",
      "Iteration:  16500\n",
      "Iteration:  17000\n",
      "Iteration:  17500\n",
      "Iteration:  18000\n",
      "Iteration:  18500\n",
      "Iteration:  19000\n",
      "Iteration:  19500\n",
      "Iteration:  20000\n",
      "Iteration:  20500\n",
      "Iteration:  21000\n",
      "Iteration:  21500\n",
      "Iteration:  22000\n",
      "Iteration:  22500\n",
      "Iteration:  23000\n",
      "Iteration:  23500\n",
      "Iteration:  24000\n",
      "Iteration:  24500\n",
      "Iteration:  25000\n",
      "Iteration:  25500\n",
      "Iteration:  26000\n",
      "Iteration:  26500\n",
      "Iteration:  27000\n",
      "Iteration:  27500\n",
      "Iteration:  28000\n",
      "Iteration:  28500\n",
      "Iteration:  29000\n",
      "Iteration:  29500\n",
      "Iteration:  30000\n",
      "Iteration:  30500\n",
      "Iteration:  31000\n",
      "Iteration:  31500\n",
      "Iteration:  32000\n",
      "Iteration:  32500\n",
      "Iteration:  33000\n",
      "Iteration:  33500\n",
      "Iteration:  34000\n",
      "Iteration:  34500\n",
      "Iteration:  35000\n",
      "Iteration:  35500\n",
      "Iteration:  36000\n",
      "Iteration:  36500\n",
      "Iteration:  37000\n",
      "Iteration:  37500\n",
      "Iteration:  38000\n",
      "Iteration:  38500\n",
      "Iteration:  39000\n",
      "Iteration:  39500\n",
      "Iteration:  40000\n",
      "Iteration:  40500\n",
      "Iteration:  41000\n",
      "Iteration:  41500\n",
      "Iteration:  42000\n",
      "Iteration:  42500\n",
      "Iteration:  43000\n",
      "Iteration:  43500\n",
      "Iteration:  44000\n",
      "Iteration:  44500\n",
      "Iteration:  45000\n",
      "Iteration:  45500\n",
      "Iteration:  46000\n",
      "Iteration:  46500\n",
      "Iteration:  47000\n",
      "Iteration:  47500\n",
      "Iteration:  48000\n",
      "Iteration:  48500\n",
      "Iteration:  49000\n",
      "Iteration:  49500\n",
      "Iteration:  50000\n",
      "Iteration:  50500\n",
      "Iteration:  51000\n",
      "Iteration:  51500\n",
      "Iteration:  52000\n",
      "Iteration:  52500\n",
      "Iteration:  53000\n",
      "Iteration:  53500\n",
      "Iteration:  54000\n",
      "Iteration:  54500\n",
      "Iteration:  55000\n",
      "Iteration:  55500\n",
      "Iteration:  56000\n",
      "Iteration:  56500\n",
      "Iteration:  57000\n",
      "Iteration:  57500\n",
      "Iteration:  58000\n",
      "Iteration:  58500\n",
      "Iteration:  59000\n",
      "Iteration:  59500\n",
      "Training finished!\n",
      "The weight and bias are stored\n"
     ]
    }
   ],
   "source": [
    "w1, b1, w2, b2 = gradient_descent_training(60000, pixels, handwritten, w1, b1, w2, b2, 0.1)"
   ]
  },
  {
   "cell_type": "code",
   "execution_count": 152,
   "id": "1b18a8b6-3380-4777-9464-58ea06219375",
   "metadata": {},
   "outputs": [
    {
     "name": "stdout",
     "output_type": "stream",
     "text": [
      "This is the prediction: [1]\n",
      "This is the handwritten number\n"
     ]
    },
    {
     "data": {
      "image/png": "[encoded data removed]",
      "text/plain": [
       "<Figure size 640x480 with 1 Axes>"
      ]
     },
     "metadata": {},
     "output_type": "display_data"
    }
   ],
   "source": [
    "# pick a number from dataset\n",
    "number_index = 3\n",
    "\n",
    "pixels_for_test = np.zeros((784, 1))\n",
    "for i in range(784):\n",
    "    pixels_for_test[i,0] = pixels[i, number_index]\n",
    "# print(pixels_for_test)    \n",
    "tH1_pre, tH1, tY_pre, tY = forward_prop(w1, b1, w2, b2, pixels_for_test)\n",
    "prediction = np.argmax(tY, 0)\n",
    "print('This is the prediction:', prediction)\n",
    "# print(tY)\n",
    "print('This is the handwritten number')\n",
    "show_pixel_number(number_index, data)"
   ]
  },
  {
   "cell_type": "code",
   "execution_count": null,
   "id": "b37a70c6-1671-4994-bb48-8759f158079f",
   "metadata": {},
   "outputs": [],
   "source": []
  },
  {
   "cell_type": "code",
   "execution_count": 82,
   "id": "f878f865-253a-4d2d-98a5-ff6187e4936c",
   "metadata": {},
   "outputs": [],
   "source": [
    "def get_accuracy(test_cycles, w1, b1, w2, b2, actual_number, pixels):\n",
    "    accuracy = 0\n",
    "    for re in range(test_cycles):\n",
    "        number_index = re\n",
    "\n",
    "        pixels_for_test = np.zeros((784, 1))\n",
    "        for i in range(784):\n",
    "            pixels_for_test[i,0] = pixels[i, number_index]\n",
    "\n",
    "        _, _, _, raw_prediction = forward_prop(w1, b1, w2, b2, pixels_for_test)\n",
    "        prediction = np.argmax(raw_prediction, 0)\n",
    "        # print(prediction)\n",
    "        # print(actual_number[re])\n",
    "        \n",
    "        if actual_number[re] == prediction :\n",
    "            accuracy = accuracy+1\n",
    "    accuracy = accuracy/test_cycles*100\n",
    "    return accuracy"
   ]
  },
  {
   "cell_type": "code",
   "execution_count": 153,
   "id": "a3363df5-2e7b-4b68-bb1c-790a86cb76f0",
   "metadata": {},
   "outputs": [
    {
     "name": "stdout",
     "output_type": "stream",
     "text": [
      "The AI accuracy is: 64.46 %\n"
     ]
    }
   ],
   "source": [
    "print('The AI accuracy is:', get_accuracy(5000, w1, b1, w2, b2, handwritten, pixels), '%')"
   ]
  },
  {
   "cell_type": "code",
   "execution_count": 154,
   "id": "0e0646a4-cf19-44c3-918e-e451f71ca37c",
   "metadata": {},
   "outputs": [],
   "source": [
    "# \n",
    "test_data = pd.read_csv('/Users/zihang/Desktop/Pico/MNIST/mnist_test.csv')\n",
    "test_data = np.array(test_data)\n",
    "# Shuffle it befire we test the accuracy\n",
    "\n",
    "np.random.shuffle(test_data)\n",
    "\n",
    "test_accuracy_data = test_data[0:10000].T\n",
    "\n",
    "test_accuracy_handwritten = test_accuracy_data[0]\n",
    "test_accuracy_pixels = test_accuracy_data[1:n]\n",
    "test_accuracy_pixels = test_accuracy_pixels / 255."
   ]
  },
  {
   "cell_type": "code",
   "execution_count": 155,
   "id": "489720b5-1b72-45df-82f4-167bca12cd6f",
   "metadata": {},
   "outputs": [
    {
     "name": "stdout",
     "output_type": "stream",
     "text": [
      "The AI accuracy is: 63.6 %\n"
     ]
    }
   ],
   "source": [
    "print('The AI accuracy is:', get_accuracy(5000, w1, b1, w2, b2, test_accuracy_handwritten, test_accuracy_pixels), '%')"
   ]
  },
  {
   "cell_type": "code",
   "execution_count": null,
   "id": "2a52d644-171a-41df-982e-f1d5f1495345",
   "metadata": {},
   "outputs": [],
   "source": []
  }
 ],
 "metadata": {
  "kernelspec": {
   "display_name": "Python 3 (ipykernel)",
   "language": "python",
   "name": "python3"
  },
  "language_info": {
   "codemirror_mode": {
    "name": "ipython",
    "version": 3
   },
   "file_extension": ".py",
   "mimetype": "text/x-python",
   "name": "python",
   "nbconvert_exporter": "python",
   "pygments_lexer": "ipython3",
   "version": "3.10.9"
  }
 },
 "nbformat": 4,
 "nbformat_minor": 5
}
